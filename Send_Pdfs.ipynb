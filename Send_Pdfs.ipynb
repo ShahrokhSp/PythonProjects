{
 "cells": [
  {
   "cell_type": "code",
   "execution_count": 2,
   "metadata": {},
   "outputs": [],
   "source": [
    "import smtplib\n",
    "import getpass\n",
    "from email.mime.multipart import MIMEMultipart\n",
    "from email.mime.text import MIMEText\n",
    "from email.mime.base import MIMEBase\n",
    "from email import encoders"
   ]
  },
  {
   "cell_type": "code",
   "execution_count": 50,
   "metadata": {},
   "outputs": [
    {
     "data": {
      "text/plain": [
       "'knwgupvivjiccwzw'"
      ]
     },
     "execution_count": 50,
     "metadata": {},
     "output_type": "execute_result"
    }
   ],
   "source": [
    "password"
   ]
  },
  {
   "cell_type": "markdown",
   "metadata": {},
   "source": [
    "jupyter notebook --NotebookApp.iopub_data_rate_limit=1.0e10"
   ]
  },
  {
   "cell_type": "code",
   "execution_count": 3,
   "metadata": {},
   "outputs": [
    {
     "ename": "NameError",
     "evalue": "name 'email' is not defined",
     "output_type": "error",
     "traceback": [
      "\u001b[1;31m---------------------------------------------------------------------------\u001b[0m",
      "\u001b[1;31mNameError\u001b[0m                                 Traceback (most recent call last)",
      "\u001b[1;32m<ipython-input-3-dcd5f871ab43>\u001b[0m in \u001b[0;36m<module>\u001b[1;34m\u001b[0m\n\u001b[0;32m      2\u001b[0m \u001b[0msmtp_object\u001b[0m\u001b[1;33m.\u001b[0m\u001b[0mehlo\u001b[0m\u001b[1;33m(\u001b[0m\u001b[1;33m)\u001b[0m\u001b[1;33m\u001b[0m\u001b[1;33m\u001b[0m\u001b[0m\n\u001b[0;32m      3\u001b[0m \u001b[0msmtp_object\u001b[0m\u001b[1;33m.\u001b[0m\u001b[0mstarttls\u001b[0m\u001b[1;33m(\u001b[0m\u001b[1;33m)\u001b[0m\u001b[1;33m\u001b[0m\u001b[1;33m\u001b[0m\u001b[0m\n\u001b[1;32m----> 4\u001b[1;33m \u001b[0msmtp_object\u001b[0m\u001b[1;33m.\u001b[0m\u001b[0mlogin\u001b[0m\u001b[1;33m(\u001b[0m\u001b[0memail\u001b[0m\u001b[1;33m,\u001b[0m\u001b[0mpassword\u001b[0m\u001b[1;33m)\u001b[0m\u001b[1;33m\u001b[0m\u001b[1;33m\u001b[0m\u001b[0m\n\u001b[0m",
      "\u001b[1;31mNameError\u001b[0m: name 'email' is not defined"
     ]
    }
   ],
   "source": [
    "smtp_object = smtplib.SMTP('smtp.gmail.com')\n",
    "smtp_object.ehlo()\n",
    "smtp_object.starttls()\n",
    "smtp_object.login(email,password)"
   ]
  },
  {
   "cell_type": "code",
   "execution_count": 3,
   "metadata": {},
   "outputs": [
    {
     "name": "stdout",
     "output_type": "stream",
     "text": [
      "Email? shahrokhi.alireza.as@gmail.com\n",
      "Pass? ········\n"
     ]
    },
    {
     "data": {
      "text/plain": [
       "(235, b'2.7.0 Accepted')"
      ]
     },
     "execution_count": 3,
     "metadata": {},
     "output_type": "execute_result"
    }
   ],
   "source": [
    "smtp_object = smtplib.SMTP('smtp.gmail.com')\n",
    "smtp_object.ehlo()\n",
    "smtp_object.starttls()\n",
    "email = input('Email? ')\n",
    "password = getpass.getpass('Pass? ')\n",
    "smtp_object.login(email,password)"
   ]
  },
  {
   "cell_type": "code",
   "execution_count": 4,
   "metadata": {},
   "outputs": [],
   "source": [
    "def Mail(name):\n",
    "    from_address = email\n",
    "    to_address = 'alireza.shahrokhi.14@gmail.com'\n",
    "    msg = MIMEMultipart()\n",
    "    msg['From'] = from_address \n",
    "    msg['To'] = to_address \n",
    "    msg['Subject'] = \"TEST\" #must be asked\n",
    "    body = \"SHIT TEST\" # msut be asked\n",
    "    msg.attach(MIMEText(body, 'plain')) \n",
    "    filename = name\n",
    "    attachment = open(directory+'\\\\'+name, \"rb\") \n",
    "    p = MIMEBase('application', 'pdf') \n",
    "    p.set_payload((attachment).read()) \n",
    "    encoders.encode_base64(p)\n",
    "    p.add_header('Content-Disposition', \"attachment; filename= %s\" % filename) \n",
    "    msg.attach(p) \n",
    "    text = msg.as_string() \n",
    "    smtp_object.sendmail(from_address,to_address,text)"
   ]
  },
  {
   "cell_type": "code",
   "execution_count": 43,
   "metadata": {},
   "outputs": [
    {
     "name": "stdout",
     "output_type": "stream",
     "text": [
      "You Pressed A Key!\n"
     ]
    }
   ],
   "source": [
    "import keyboard  # using module keyboard\n",
    "while True:  # making a loop\n",
    "    try:  # used try so that if user pressed other than the given key error will not be shown\n",
    "        if keyboard.is_pressed('q'):  # if key 'q' is pressed \n",
    "            print('You Pressed A Key!')\n",
    "            break  # finishing the loop\n",
    "    except:\n",
    "        break  # "
   ]
  },
  {
   "cell_type": "code",
   "execution_count": 5,
   "metadata": {},
   "outputs": [],
   "source": [
    "import os\n",
    "af = os.walk('D:\\\\Download',topdown=True,)"
   ]
  },
  {
   "cell_type": "code",
   "execution_count": 7,
   "metadata": {},
   "outputs": [
    {
     "name": "stdout",
     "output_type": "stream",
     "text": [
      "D:\\Download\n",
      "['TeraCopy.Pro.3.26']\n",
      "['anki-2.1.29-windows.exe', 'factor.prn', 'factor2.prn', 'mt4setup(1).exe', 'mt4setup.exe', 'NetLimiter.Pro.4.0.68.0.rar', 'Notepad.7.8.9.x64.rar', 'PowerToysSetup-0.20.1-x64.exe', 'python-3.8.5.exe', 'Semester_Result.pdf', 'structures-gordon.pdf']\n",
      "D:\\Download\\TeraCopy.Pro.3.26\n",
      "[]\n",
      "['License.txt', 'Soft98.iR.url', 'TeraCopy.Pro.3.26_Soft98.iR.exe', 'انجمن حل مشکلات نرم افزاری.url']\n"
     ]
    }
   ],
   "source": [
    "for folder,subfolder,file in af:\n",
    "    print(folder)\n",
    "    print(subfolder)\n",
    "    print(file)"
   ]
  },
  {
   "cell_type": "code",
   "execution_count": 6,
   "metadata": {},
   "outputs": [],
   "source": [
    "import time\n",
    "directory = \"D:\\\\Project Learning\\\\Python\\\\Udemy_2020_Complete_Python_Bootcamp_From_Zero_to_Hero_in_Python\\\\Complete-Python-3-Bootcamp-master\\\\16-Emailing-with-Python\\\\Project pdf delivery\""
   ]
  },
  {
   "cell_type": "code",
   "execution_count": 7,
   "metadata": {},
   "outputs": [],
   "source": [
    "existing_files = set()\n",
    "for folder, subfolder, file in os.walk(directory):\n",
    "    for f in file:\n",
    "        existing_files.add(f)"
   ]
  },
  {
   "cell_type": "code",
   "execution_count": 8,
   "metadata": {},
   "outputs": [
    {
     "data": {
      "text/plain": [
       "0"
      ]
     },
     "execution_count": 8,
     "metadata": {},
     "output_type": "execute_result"
    }
   ],
   "source": [
    "existing_files\n",
    "os.system('cls')\n"
   ]
  },
  {
   "cell_type": "code",
   "execution_count": null,
   "metadata": {},
   "outputs": [],
   "source": [
    "keep_online()\n",
    "while True:\n",
    "    time.sleep(5)\n",
    "    for folder, subfolder, file in os.walk(directory):\n",
    "        for f in file:\n",
    "            if not(f in existing_files):\n",
    "                Mail(f)\n",
    "                existing_files.add(f)"
   ]
  },
  {
   "cell_type": "code",
   "execution_count": 10,
   "metadata": {},
   "outputs": [],
   "source": [
    "def keep_online():\n",
    "    while True:\n",
    "        time.sleep(30)\n",
    "        smtp_object = smtplib.SMTP('smtp.gmail.com')\n",
    "        smtp_object.ehlo()\n",
    "        smtp_object.starttls()\n",
    "        smtp_object.login(email,password)"
   ]
  },
  {
   "cell_type": "code",
   "execution_count": 11,
   "metadata": {
    "scrolled": true
   },
   "outputs": [
    {
     "data": {
      "text/plain": [
       "{'Andishe2_Alireza Shahrokhi_963121026.pdf',\n",
       " 'Certificate for Theology.pdf',\n",
       " 'DM_Alireza Shahrokhi_963121026.pdf',\n",
       " 'FP_Alireza Shahrokhi_963121026.pdf',\n",
       " 'MIS_Alireza Shahrokhi.pdf',\n",
       " 'Qc_Alireza Shahrokhi_963121026.pdf',\n",
       " 'final-simulation-98-99-2__V2_4.pdf'}"
      ]
     },
     "execution_count": 11,
     "metadata": {},
     "output_type": "execute_result"
    }
   ],
   "source": [
    "existing_files"
   ]
  },
  {
   "cell_type": "code",
   "execution_count": null,
   "metadata": {},
   "outputs": [],
   "source": []
  }
 ],
 "metadata": {
  "kernelspec": {
   "display_name": "Python 3",
   "language": "python",
   "name": "python3"
  },
  "language_info": {
   "codemirror_mode": {
    "name": "ipython",
    "version": 3
   },
   "file_extension": ".py",
   "mimetype": "text/x-python",
   "name": "python",
   "nbconvert_exporter": "python",
   "pygments_lexer": "ipython3",
   "version": "3.7.6"
  }
 },
 "nbformat": 4,
 "nbformat_minor": 4
}
